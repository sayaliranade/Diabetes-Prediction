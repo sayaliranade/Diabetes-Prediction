{
 "cells": [
  {
   "cell_type": "code",
   "execution_count": 1,
   "id": "GF6wHfeU4JMV",
   "metadata": {
    "id": "GF6wHfeU4JMV"
   },
   "outputs": [],
   "source": [
    "import pandas as pd\n",
    "import numpy as np"
   ]
  },
  {
   "cell_type": "code",
   "execution_count": 2,
   "id": "pjVJE66q4LZz",
   "metadata": {
    "id": "pjVJE66q4LZz"
   },
   "outputs": [],
   "source": [
    "# importing the dataset\n",
    "\n",
    "data = pd.read_csv(\"diabetes.csv\", header=0)"
   ]
  },
  {
   "cell_type": "markdown",
   "id": "a2116137",
   "metadata": {},
   "source": [
    "## Understanding the data"
   ]
  },
  {
   "cell_type": "code",
   "execution_count": 3,
   "id": "T-jzllXB4p7k",
   "metadata": {
    "colab": {
     "base_uri": "https://localhost:8080/"
    },
    "id": "T-jzllXB4p7k",
    "outputId": "94690de5-9866-4f55-9431-f10db20cf83a"
   },
   "outputs": [
    {
     "name": "stdout",
     "output_type": "stream",
     "text": [
      "<class 'pandas.core.frame.DataFrame'>\n",
      "RangeIndex: 768 entries, 0 to 767\n",
      "Data columns (total 9 columns):\n",
      " #   Column                    Non-Null Count  Dtype  \n",
      "---  ------                    --------------  -----  \n",
      " 0   Pregnancies               768 non-null    int64  \n",
      " 1   Glucose                   768 non-null    int64  \n",
      " 2   BloodPressure             768 non-null    int64  \n",
      " 3   SkinThickness             768 non-null    int64  \n",
      " 4   Insulin                   768 non-null    int64  \n",
      " 5   BMI                       768 non-null    float64\n",
      " 6   DiabetesPedigreeFunction  768 non-null    float64\n",
      " 7   Age                       768 non-null    int64  \n",
      " 8   Outcome                   768 non-null    int64  \n",
      "dtypes: float64(2), int64(7)\n",
      "memory usage: 54.1 KB\n"
     ]
    }
   ],
   "source": [
    "data.info()"
   ]
  },
  {
   "cell_type": "code",
   "execution_count": 4,
   "id": "366qbgq9489u",
   "metadata": {
    "colab": {
     "base_uri": "https://localhost:8080/",
     "height": 331
    },
    "id": "366qbgq9489u",
    "outputId": "62bf5c78-3e67-417f-a3d2-52bb7e87ec69"
   },
   "outputs": [
    {
     "data": {
      "text/html": [
       "<div>\n",
       "<style scoped>\n",
       "    .dataframe tbody tr th:only-of-type {\n",
       "        vertical-align: middle;\n",
       "    }\n",
       "\n",
       "    .dataframe tbody tr th {\n",
       "        vertical-align: top;\n",
       "    }\n",
       "\n",
       "    .dataframe thead th {\n",
       "        text-align: right;\n",
       "    }\n",
       "</style>\n",
       "<table border=\"1\" class=\"dataframe\">\n",
       "  <thead>\n",
       "    <tr style=\"text-align: right;\">\n",
       "      <th></th>\n",
       "      <th>count</th>\n",
       "      <th>mean</th>\n",
       "      <th>std</th>\n",
       "      <th>min</th>\n",
       "      <th>25%</th>\n",
       "      <th>50%</th>\n",
       "      <th>75%</th>\n",
       "      <th>max</th>\n",
       "    </tr>\n",
       "  </thead>\n",
       "  <tbody>\n",
       "    <tr>\n",
       "      <th>Pregnancies</th>\n",
       "      <td>768.0</td>\n",
       "      <td>3.845052</td>\n",
       "      <td>3.369578</td>\n",
       "      <td>0.000</td>\n",
       "      <td>1.00000</td>\n",
       "      <td>3.0000</td>\n",
       "      <td>6.00000</td>\n",
       "      <td>17.00</td>\n",
       "    </tr>\n",
       "    <tr>\n",
       "      <th>Glucose</th>\n",
       "      <td>768.0</td>\n",
       "      <td>120.894531</td>\n",
       "      <td>31.972618</td>\n",
       "      <td>0.000</td>\n",
       "      <td>99.00000</td>\n",
       "      <td>117.0000</td>\n",
       "      <td>140.25000</td>\n",
       "      <td>199.00</td>\n",
       "    </tr>\n",
       "    <tr>\n",
       "      <th>BloodPressure</th>\n",
       "      <td>768.0</td>\n",
       "      <td>69.105469</td>\n",
       "      <td>19.355807</td>\n",
       "      <td>0.000</td>\n",
       "      <td>62.00000</td>\n",
       "      <td>72.0000</td>\n",
       "      <td>80.00000</td>\n",
       "      <td>122.00</td>\n",
       "    </tr>\n",
       "    <tr>\n",
       "      <th>SkinThickness</th>\n",
       "      <td>768.0</td>\n",
       "      <td>20.536458</td>\n",
       "      <td>15.952218</td>\n",
       "      <td>0.000</td>\n",
       "      <td>0.00000</td>\n",
       "      <td>23.0000</td>\n",
       "      <td>32.00000</td>\n",
       "      <td>99.00</td>\n",
       "    </tr>\n",
       "    <tr>\n",
       "      <th>Insulin</th>\n",
       "      <td>768.0</td>\n",
       "      <td>79.799479</td>\n",
       "      <td>115.244002</td>\n",
       "      <td>0.000</td>\n",
       "      <td>0.00000</td>\n",
       "      <td>30.5000</td>\n",
       "      <td>127.25000</td>\n",
       "      <td>846.00</td>\n",
       "    </tr>\n",
       "    <tr>\n",
       "      <th>BMI</th>\n",
       "      <td>768.0</td>\n",
       "      <td>31.992578</td>\n",
       "      <td>7.884160</td>\n",
       "      <td>0.000</td>\n",
       "      <td>27.30000</td>\n",
       "      <td>32.0000</td>\n",
       "      <td>36.60000</td>\n",
       "      <td>67.10</td>\n",
       "    </tr>\n",
       "    <tr>\n",
       "      <th>DiabetesPedigreeFunction</th>\n",
       "      <td>768.0</td>\n",
       "      <td>0.471876</td>\n",
       "      <td>0.331329</td>\n",
       "      <td>0.078</td>\n",
       "      <td>0.24375</td>\n",
       "      <td>0.3725</td>\n",
       "      <td>0.62625</td>\n",
       "      <td>2.42</td>\n",
       "    </tr>\n",
       "    <tr>\n",
       "      <th>Age</th>\n",
       "      <td>768.0</td>\n",
       "      <td>33.240885</td>\n",
       "      <td>11.760232</td>\n",
       "      <td>21.000</td>\n",
       "      <td>24.00000</td>\n",
       "      <td>29.0000</td>\n",
       "      <td>41.00000</td>\n",
       "      <td>81.00</td>\n",
       "    </tr>\n",
       "    <tr>\n",
       "      <th>Outcome</th>\n",
       "      <td>768.0</td>\n",
       "      <td>0.348958</td>\n",
       "      <td>0.476951</td>\n",
       "      <td>0.000</td>\n",
       "      <td>0.00000</td>\n",
       "      <td>0.0000</td>\n",
       "      <td>1.00000</td>\n",
       "      <td>1.00</td>\n",
       "    </tr>\n",
       "  </tbody>\n",
       "</table>\n",
       "</div>"
      ],
      "text/plain": [
       "                          count        mean         std     min       25%  \\\n",
       "Pregnancies               768.0    3.845052    3.369578   0.000   1.00000   \n",
       "Glucose                   768.0  120.894531   31.972618   0.000  99.00000   \n",
       "BloodPressure             768.0   69.105469   19.355807   0.000  62.00000   \n",
       "SkinThickness             768.0   20.536458   15.952218   0.000   0.00000   \n",
       "Insulin                   768.0   79.799479  115.244002   0.000   0.00000   \n",
       "BMI                       768.0   31.992578    7.884160   0.000  27.30000   \n",
       "DiabetesPedigreeFunction  768.0    0.471876    0.331329   0.078   0.24375   \n",
       "Age                       768.0   33.240885   11.760232  21.000  24.00000   \n",
       "Outcome                   768.0    0.348958    0.476951   0.000   0.00000   \n",
       "\n",
       "                               50%        75%     max  \n",
       "Pregnancies                 3.0000    6.00000   17.00  \n",
       "Glucose                   117.0000  140.25000  199.00  \n",
       "BloodPressure              72.0000   80.00000  122.00  \n",
       "SkinThickness              23.0000   32.00000   99.00  \n",
       "Insulin                    30.5000  127.25000  846.00  \n",
       "BMI                        32.0000   36.60000   67.10  \n",
       "DiabetesPedigreeFunction    0.3725    0.62625    2.42  \n",
       "Age                        29.0000   41.00000   81.00  \n",
       "Outcome                     0.0000    1.00000    1.00  "
      ]
     },
     "execution_count": 4,
     "metadata": {},
     "output_type": "execute_result"
    }
   ],
   "source": [
    "data.describe().T"
   ]
  },
  {
   "cell_type": "code",
   "execution_count": 5,
   "id": "2kUdWbMI5bHN",
   "metadata": {
    "colab": {
     "base_uri": "https://localhost:8080/",
     "height": 363
    },
    "id": "2kUdWbMI5bHN",
    "outputId": "5716639f-2dab-4b9b-ac8a-fe452c2b4bb8"
   },
   "outputs": [
    {
     "data": {
      "text/html": [
       "<div>\n",
       "<style scoped>\n",
       "    .dataframe tbody tr th:only-of-type {\n",
       "        vertical-align: middle;\n",
       "    }\n",
       "\n",
       "    .dataframe tbody tr th {\n",
       "        vertical-align: top;\n",
       "    }\n",
       "\n",
       "    .dataframe thead th {\n",
       "        text-align: right;\n",
       "    }\n",
       "</style>\n",
       "<table border=\"1\" class=\"dataframe\">\n",
       "  <thead>\n",
       "    <tr style=\"text-align: right;\">\n",
       "      <th></th>\n",
       "      <th>Pregnancies</th>\n",
       "      <th>Glucose</th>\n",
       "      <th>BloodPressure</th>\n",
       "      <th>SkinThickness</th>\n",
       "      <th>Insulin</th>\n",
       "      <th>BMI</th>\n",
       "      <th>DiabetesPedigreeFunction</th>\n",
       "      <th>Age</th>\n",
       "      <th>Outcome</th>\n",
       "    </tr>\n",
       "  </thead>\n",
       "  <tbody>\n",
       "    <tr>\n",
       "      <th>0</th>\n",
       "      <td>6</td>\n",
       "      <td>148</td>\n",
       "      <td>72</td>\n",
       "      <td>35</td>\n",
       "      <td>0</td>\n",
       "      <td>33.6</td>\n",
       "      <td>0.627</td>\n",
       "      <td>50</td>\n",
       "      <td>1</td>\n",
       "    </tr>\n",
       "    <tr>\n",
       "      <th>1</th>\n",
       "      <td>1</td>\n",
       "      <td>85</td>\n",
       "      <td>66</td>\n",
       "      <td>29</td>\n",
       "      <td>0</td>\n",
       "      <td>26.6</td>\n",
       "      <td>0.351</td>\n",
       "      <td>31</td>\n",
       "      <td>0</td>\n",
       "    </tr>\n",
       "    <tr>\n",
       "      <th>2</th>\n",
       "      <td>8</td>\n",
       "      <td>183</td>\n",
       "      <td>64</td>\n",
       "      <td>0</td>\n",
       "      <td>0</td>\n",
       "      <td>23.3</td>\n",
       "      <td>0.672</td>\n",
       "      <td>32</td>\n",
       "      <td>1</td>\n",
       "    </tr>\n",
       "    <tr>\n",
       "      <th>3</th>\n",
       "      <td>1</td>\n",
       "      <td>89</td>\n",
       "      <td>66</td>\n",
       "      <td>23</td>\n",
       "      <td>94</td>\n",
       "      <td>28.1</td>\n",
       "      <td>0.167</td>\n",
       "      <td>21</td>\n",
       "      <td>0</td>\n",
       "    </tr>\n",
       "    <tr>\n",
       "      <th>4</th>\n",
       "      <td>0</td>\n",
       "      <td>137</td>\n",
       "      <td>40</td>\n",
       "      <td>35</td>\n",
       "      <td>168</td>\n",
       "      <td>43.1</td>\n",
       "      <td>2.288</td>\n",
       "      <td>33</td>\n",
       "      <td>1</td>\n",
       "    </tr>\n",
       "    <tr>\n",
       "      <th>5</th>\n",
       "      <td>5</td>\n",
       "      <td>116</td>\n",
       "      <td>74</td>\n",
       "      <td>0</td>\n",
       "      <td>0</td>\n",
       "      <td>25.6</td>\n",
       "      <td>0.201</td>\n",
       "      <td>30</td>\n",
       "      <td>0</td>\n",
       "    </tr>\n",
       "    <tr>\n",
       "      <th>6</th>\n",
       "      <td>3</td>\n",
       "      <td>78</td>\n",
       "      <td>50</td>\n",
       "      <td>32</td>\n",
       "      <td>88</td>\n",
       "      <td>31.0</td>\n",
       "      <td>0.248</td>\n",
       "      <td>26</td>\n",
       "      <td>1</td>\n",
       "    </tr>\n",
       "    <tr>\n",
       "      <th>7</th>\n",
       "      <td>10</td>\n",
       "      <td>115</td>\n",
       "      <td>0</td>\n",
       "      <td>0</td>\n",
       "      <td>0</td>\n",
       "      <td>35.3</td>\n",
       "      <td>0.134</td>\n",
       "      <td>29</td>\n",
       "      <td>0</td>\n",
       "    </tr>\n",
       "    <tr>\n",
       "      <th>8</th>\n",
       "      <td>2</td>\n",
       "      <td>197</td>\n",
       "      <td>70</td>\n",
       "      <td>45</td>\n",
       "      <td>543</td>\n",
       "      <td>30.5</td>\n",
       "      <td>0.158</td>\n",
       "      <td>53</td>\n",
       "      <td>1</td>\n",
       "    </tr>\n",
       "    <tr>\n",
       "      <th>9</th>\n",
       "      <td>8</td>\n",
       "      <td>125</td>\n",
       "      <td>96</td>\n",
       "      <td>0</td>\n",
       "      <td>0</td>\n",
       "      <td>0.0</td>\n",
       "      <td>0.232</td>\n",
       "      <td>54</td>\n",
       "      <td>1</td>\n",
       "    </tr>\n",
       "  </tbody>\n",
       "</table>\n",
       "</div>"
      ],
      "text/plain": [
       "   Pregnancies  Glucose  BloodPressure  SkinThickness  Insulin   BMI  \\\n",
       "0            6      148             72             35        0  33.6   \n",
       "1            1       85             66             29        0  26.6   \n",
       "2            8      183             64              0        0  23.3   \n",
       "3            1       89             66             23       94  28.1   \n",
       "4            0      137             40             35      168  43.1   \n",
       "5            5      116             74              0        0  25.6   \n",
       "6            3       78             50             32       88  31.0   \n",
       "7           10      115              0              0        0  35.3   \n",
       "8            2      197             70             45      543  30.5   \n",
       "9            8      125             96              0        0   0.0   \n",
       "\n",
       "   DiabetesPedigreeFunction  Age  Outcome  \n",
       "0                     0.627   50        1  \n",
       "1                     0.351   31        0  \n",
       "2                     0.672   32        1  \n",
       "3                     0.167   21        0  \n",
       "4                     2.288   33        1  \n",
       "5                     0.201   30        0  \n",
       "6                     0.248   26        1  \n",
       "7                     0.134   29        0  \n",
       "8                     0.158   53        1  \n",
       "9                     0.232   54        1  "
      ]
     },
     "execution_count": 5,
     "metadata": {},
     "output_type": "execute_result"
    }
   ],
   "source": [
    "data.head(10)"
   ]
  },
  {
   "cell_type": "markdown",
   "id": "OTGxm7kS60b-",
   "metadata": {
    "id": "OTGxm7kS60b-"
   },
   "source": [
    "There certain fields like Blood Pressure, BMI, Skin Thickness etc which should not have 0 values. Thus, even if all the columns are not null, there are '0's in the data which may suggest missing attribute value."
   ]
  },
  {
   "cell_type": "code",
   "execution_count": 6,
   "id": "6qTcX3iy7Rm1",
   "metadata": {
    "colab": {
     "base_uri": "https://localhost:8080/"
    },
    "id": "6qTcX3iy7Rm1",
    "outputId": "196a8dd7-b924-4ba1-f36b-654a048652f6"
   },
   "outputs": [
    {
     "data": {
      "text/plain": [
       "Pregnancies                 111\n",
       "Glucose                       5\n",
       "BloodPressure                35\n",
       "SkinThickness               227\n",
       "Insulin                     374\n",
       "BMI                          11\n",
       "DiabetesPedigreeFunction      0\n",
       "Age                           0\n",
       "Outcome                     500\n",
       "dtype: int64"
      ]
     },
     "execution_count": 6,
     "metadata": {},
     "output_type": "execute_result"
    }
   ],
   "source": [
    "(data == 0).sum()"
   ]
  },
  {
   "cell_type": "markdown",
   "id": "DAyKUDwZ_oIn",
   "metadata": {
    "id": "DAyKUDwZ_oIn"
   },
   "source": [
    "Columns like Glucose, BloodPressure, SkinThickness, Insulin and BMI should not have Zeros. So we can replace 0 with mean of the column."
   ]
  },
  {
   "cell_type": "code",
   "execution_count": 7,
   "id": "o8BXKE7bAAUJ",
   "metadata": {
    "id": "o8BXKE7bAAUJ"
   },
   "outputs": [],
   "source": [
    "# Replacing 0 with Nan\n",
    "data[['Glucose','BloodPressure','SkinThickness','Insulin','BMI']] = data[['Glucose',\n",
    "                      'BloodPressure','SkinThickness','Insulin','BMI']].replace(0,np.NaN)"
   ]
  },
  {
   "cell_type": "code",
   "execution_count": 8,
   "id": "EcavVFRUBYkh",
   "metadata": {
    "id": "EcavVFRUBYkh"
   },
   "outputs": [],
   "source": [
    "# Replacing Nan with mean of the column\n",
    "data['Glucose'].fillna(data['Glucose'].mean(), inplace = True)\n",
    "data['BloodPressure'].fillna(data['BloodPressure'].mean(), inplace = True)\n",
    "data['SkinThickness'].fillna(data['SkinThickness'].median(), inplace = True)\n",
    "data['Insulin'].fillna(data['Insulin'].median(), inplace = True)\n",
    "data['BMI'].fillna(data['BMI'].median(), inplace = True)"
   ]
  },
  {
   "cell_type": "code",
   "execution_count": 9,
   "id": "-sXQzdy0BpPo",
   "metadata": {
    "colab": {
     "base_uri": "https://localhost:8080/",
     "height": 279
    },
    "id": "-sXQzdy0BpPo",
    "outputId": "c9138723-1a07-44b5-dc96-68d5f924d5cc"
   },
   "outputs": [
    {
     "data": {
      "text/plain": [
       "<AxesSubplot:>"
      ]
     },
     "execution_count": 9,
     "metadata": {},
     "output_type": "execute_result"
    },
    {
     "data": {
      "image/png": "[encoded data removed]",
      "text/plain": [
       "<Figure size 432x288 with 1 Axes>"
      ]
     },
     "metadata": {
      "needs_background": "light"
     },
     "output_type": "display_data"
    }
   ],
   "source": [
    "data['Outcome'].value_counts().plot(kind=\"bar\")"
   ]
  },
  {
   "cell_type": "markdown",
   "id": "BX83sEW2HSQS",
   "metadata": {
    "id": "BX83sEW2HSQS"
   },
   "source": [
    "There is imbalance in data which will affect the prediction. Thus oversampling data balancing technique can be applied."
   ]
  },
  {
   "cell_type": "code",
   "execution_count": 10,
   "id": "tJHZxc8zIcML",
   "metadata": {
    "id": "tJHZxc8zIcML"
   },
   "outputs": [],
   "source": [
    "#store count\n",
    "outcome_count_0, outcome_count_1 = data['Outcome'].value_counts()\n",
    "\n",
    "# Separate dataframes\n",
    "outcome_0 = data[data['Outcome'] == 0]\n",
    "outcome_1 = data[data['Outcome'] == 1]"
   ]
  },
  {
   "cell_type": "code",
   "execution_count": 11,
   "id": "KKAm1XGUI5Pb",
   "metadata": {
    "colab": {
     "base_uri": "https://localhost:8080/",
     "height": 279
    },
    "id": "KKAm1XGUI5Pb",
    "outputId": "08744009-4412-421f-fdbd-61921feea83b"
   },
   "outputs": [
    {
     "data": {
      "text/plain": [
       "<AxesSubplot:>"
      ]
     },
     "execution_count": 11,
     "metadata": {},
     "output_type": "execute_result"
    },
    {
     "data": {
      "image/png": "[encoded data removed]",
      "text/plain": [
       "<Figure size 432x288 with 1 Axes>"
      ]
     },
     "metadata": {
      "needs_background": "light"
     },
     "output_type": "display_data"
    }
   ],
   "source": [
    "outcome_1_over = outcome_1.sample(outcome_count_0, replace=True)\n",
    "\n",
    "data_over = pd.concat([outcome_1_over, outcome_0], axis=0)\n",
    "\n",
    "data_over['Outcome'].value_counts().plot(kind='bar')"
   ]
  },
  {
   "cell_type": "markdown",
   "id": "h3h-mxVEKJkm",
   "metadata": {
    "id": "h3h-mxVEKJkm"
   },
   "source": [
    "The data is now balanced."
   ]
  },
  {
   "cell_type": "code",
   "execution_count": 12,
   "id": "9CPHs6HkL3pC",
   "metadata": {
    "id": "9CPHs6HkL3pC"
   },
   "outputs": [],
   "source": [
    "# Stardarizing the data\n",
    "from sklearn.preprocessing import StandardScaler\n",
    "X =  pd.DataFrame(StandardScaler().fit_transform(data_over.drop([\"Outcome\"],axis = 1),), columns=['Pregnancies', \n",
    "'Glucose', 'BloodPressure', 'SkinThickness', 'Insulin', 'BMI', 'DiabetesPedigreeFunction', 'Age'])\n",
    "X.head()\n",
    "\n",
    "Y = data_over['Outcome']"
   ]
  },
  {
   "cell_type": "code",
   "execution_count": 13,
   "id": "v7kEv35GM3ZC",
   "metadata": {
    "colab": {
     "base_uri": "https://localhost:8080/"
    },
    "id": "v7kEv35GM3ZC",
    "outputId": "00cc5c3f-6c98-47c4-c49b-60f78aad88ae"
   },
   "outputs": [
    {
     "name": "stdout",
     "output_type": "stream",
     "text": [
      "<class 'pandas.core.frame.DataFrame'>\n",
      "RangeIndex: 1000 entries, 0 to 999\n",
      "Data columns (total 8 columns):\n",
      " #   Column                    Non-Null Count  Dtype  \n",
      "---  ------                    --------------  -----  \n",
      " 0   Pregnancies               1000 non-null   float64\n",
      " 1   Glucose                   1000 non-null   float64\n",
      " 2   BloodPressure             1000 non-null   float64\n",
      " 3   SkinThickness             1000 non-null   float64\n",
      " 4   Insulin                   1000 non-null   float64\n",
      " 5   BMI                       1000 non-null   float64\n",
      " 6   DiabetesPedigreeFunction  1000 non-null   float64\n",
      " 7   Age                       1000 non-null   float64\n",
      "dtypes: float64(8)\n",
      "memory usage: 62.6 KB\n"
     ]
    }
   ],
   "source": [
    "X.info()"
   ]
  },
  {
   "cell_type": "markdown",
   "id": "zhfhUP10NUPb",
   "metadata": {
    "id": "zhfhUP10NUPb"
   },
   "source": [
    "Split the data into training and testing set"
   ]
  },
  {
   "cell_type": "code",
   "execution_count": 14,
   "id": "WolGj1LRNYOS",
   "metadata": {
    "id": "WolGj1LRNYOS"
   },
   "outputs": [],
   "source": [
    "from sklearn.model_selection import train_test_split\n",
    "\n",
    "X_train, X_test, Y_train, Y_test = train_test_split(X,Y, test_size=0.3,\n",
    "                                                    random_state=42)"
   ]
  },
  {
   "cell_type": "markdown",
   "id": "d95e0e26",
   "metadata": {},
   "source": [
    "## Modeling "
   ]
  },
  {
   "cell_type": "markdown",
   "id": "toilM8VANe3z",
   "metadata": {
    "id": "toilM8VANe3z"
   },
   "source": [
    "### Logistic Regression"
   ]
  },
  {
   "cell_type": "code",
   "execution_count": 15,
   "id": "s5qDvrMYNeeu",
   "metadata": {
    "id": "s5qDvrMYNeeu"
   },
   "outputs": [],
   "source": [
    "from sklearn.linear_model import LogisticRegression\n",
    "\n",
    "logisticRegr = LogisticRegression()\n",
    "\n",
    "logisticRegr.fit(X_train, Y_train)\n",
    "\n",
    "predictions_log = logisticRegr.predict(X_test)"
   ]
  },
  {
   "cell_type": "markdown",
   "id": "aQ6hMR7Br_Es",
   "metadata": {
    "id": "aQ6hMR7Br_Es"
   },
   "source": [
    "Tuning Hyperparameters"
   ]
  },
  {
   "cell_type": "code",
   "execution_count": 16,
   "id": "htgA2LihsBsT",
   "metadata": {
    "id": "htgA2LihsBsT"
   },
   "outputs": [],
   "source": [
    "param_grid = [\n",
    "              { 'penalty':['l1','l2','elasticnet', 'none'],\n",
    "               'C':np.logspace(-4, 4, 20),\n",
    "               'solver': ['lbfgs', 'newton-cg', 'liblinear'],\n",
    "               'max_iter': [100,1000]\n",
    "      }\n",
    "]"
   ]
  },
  {
   "cell_type": "code",
   "execution_count": 17,
   "id": "kwrh1m4gswDH",
   "metadata": {
    "id": "kwrh1m4gswDH"
   },
   "outputs": [],
   "source": [
    "import warnings\n",
    "warnings.filterwarnings('ignore')\n",
    "\n",
    "from sklearn.model_selection import GridSearchCV\n",
    "\n",
    "clf = GridSearchCV(logisticRegr, param_grid = param_grid, verbose=False, cv=10)\n",
    "\n",
    "best_clf = clf.fit(X_train, Y_train)"
   ]
  },
  {
   "cell_type": "code",
   "execution_count": 18,
   "id": "fAUW0DYmt25s",
   "metadata": {
    "colab": {
     "base_uri": "https://localhost:8080/"
    },
    "id": "fAUW0DYmt25s",
    "outputId": "f7caeb48-7449-4572-cfb0-8eef6165c5b3"
   },
   "outputs": [
    {
     "data": {
      "text/plain": [
       "LogisticRegression(C=0.08858667904100823, penalty='l1', solver='liblinear')"
      ]
     },
     "execution_count": 18,
     "metadata": {},
     "output_type": "execute_result"
    }
   ],
   "source": [
    "best_clf.best_estimator_"
   ]
  },
  {
   "cell_type": "code",
   "execution_count": 20,
   "id": "fRMhlWghvBOY",
   "metadata": {
    "id": "fRMhlWghvBOY"
   },
   "outputs": [],
   "source": [
    "logisticRegr = LogisticRegression(C=0.08858667904100823, penalty='l1', solver='liblinear')\n",
    "\n",
    "logisticRegr.fit(X_train, Y_train)\n",
    "\n",
    "predictions_log = logisticRegr.predict(X_test)"
   ]
  },
  {
   "cell_type": "markdown",
   "id": "LlP-SJ8Kl5jR",
   "metadata": {
    "id": "LlP-SJ8Kl5jR"
   },
   "source": [
    "Evaluation"
   ]
  },
  {
   "cell_type": "code",
   "execution_count": 21,
   "id": "n-jSH6fqgsLo",
   "metadata": {
    "id": "n-jSH6fqgsLo"
   },
   "outputs": [],
   "source": [
    "import matplotlib.pyplot as plt\n",
    "import seaborn as sns\n",
    "from sklearn import metrics\n",
    "from sklearn.metrics import precision_score, recall_score, f1_score\n",
    "from sklearn.metrics import auc\n",
    "from sklearn.metrics import roc_curve\n",
    "from sklearn.metrics import roc_auc_score"
   ]
  },
  {
   "cell_type": "markdown",
   "id": "07pAkmcNhFMD",
   "metadata": {
    "id": "07pAkmcNhFMD"
   },
   "source": [
    "Confusion Matrix"
   ]
  },
  {
   "cell_type": "code",
   "execution_count": 22,
   "id": "cuBmON0Xg5rI",
   "metadata": {
    "colab": {
     "base_uri": "https://localhost:8080/",
     "height": 520
    },
    "id": "cuBmON0Xg5rI",
    "outputId": "b075c59b-951b-44ad-8ef1-8423ed84f31e"
   },
   "outputs": [
    {
     "data": {
      "image/png": "[encoded data removed]",
      "text/plain": [
       "<Figure size 648x648 with 2 Axes>"
      ]
     },
     "metadata": {
      "needs_background": "light"
     },
     "output_type": "display_data"
    }
   ],
   "source": [
    "cm_log = metrics.confusion_matrix(Y_test, predictions_log)\n",
    "score_log = logisticRegr.score(X_test, Y_test)\n",
    "\n",
    "plt.figure(figsize=(9,9))\n",
    "sns.heatmap(cm_log, annot=True, fmt=\".3f\", linewidths=.5, square = True, cmap = 'Blues_r');\n",
    "plt.ylabel('Actual label');\n",
    "plt.xlabel('Predicted label');\n",
    "all_sample_title = 'Accuracy Score: {0}%'.format(round(score_log*100, 2))\n",
    "plt.title(all_sample_title, size = 15);"
   ]
  },
  {
   "cell_type": "markdown",
   "id": "4Lq3hQnIknQE",
   "metadata": {
    "id": "4Lq3hQnIknQE"
   },
   "source": [
    "Precision & Recall"
   ]
  },
  {
   "cell_type": "code",
   "execution_count": 23,
   "id": "9cNEsDB5kslY",
   "metadata": {
    "colab": {
     "base_uri": "https://localhost:8080/"
    },
    "id": "9cNEsDB5kslY",
    "outputId": "3e62c742-4e5c-4a83-a52c-472189241991"
   },
   "outputs": [
    {
     "name": "stdout",
     "output_type": "stream",
     "text": [
      "Precision: 0.792\n"
     ]
    }
   ],
   "source": [
    "print('Precision: %.3f' % precision_score(Y_test, predictions_log))"
   ]
  },
  {
   "cell_type": "code",
   "execution_count": 24,
   "id": "Z0W2tEcMlU69",
   "metadata": {
    "colab": {
     "base_uri": "https://localhost:8080/"
    },
    "id": "Z0W2tEcMlU69",
    "outputId": "56adf1b5-b46d-472c-dbfd-7d1668228c07"
   },
   "outputs": [
    {
     "name": "stdout",
     "output_type": "stream",
     "text": [
      "Recall: 0.687\n"
     ]
    }
   ],
   "source": [
    "print('Recall: %.3f' % recall_score(Y_test, predictions_log))"
   ]
  },
  {
   "cell_type": "code",
   "execution_count": 25,
   "id": "PdkjVQ2x_muK",
   "metadata": {
    "id": "PdkjVQ2x_muK"
   },
   "outputs": [],
   "source": [
    "ns_probs = [0 for _ in range(len(Y_test))]\n",
    "ns_auc = roc_auc_score(Y_test, ns_probs)\n",
    "ns_fpr, ns_tpr, _ = roc_curve(Y_test, ns_probs)"
   ]
  },
  {
   "cell_type": "markdown",
   "id": "SmAZzpg_jSHK",
   "metadata": {
    "id": "SmAZzpg_jSHK"
   },
   "source": [
    "ROC & AUC"
   ]
  },
  {
   "cell_type": "code",
   "execution_count": 26,
   "id": "3C73oFu-jUn6",
   "metadata": {
    "colab": {
     "base_uri": "https://localhost:8080/",
     "height": 296
    },
    "id": "3C73oFu-jUn6",
    "outputId": "f07bc390-3e05-4dae-ae80-85ebdc6ec36b"
   },
   "outputs": [
    {
     "name": "stdout",
     "output_type": "stream",
     "text": [
      "Logistic: ROC AUC=0.839\n"
     ]
    },
    {
     "data": {
      "image/png": "[encoded data removed]",
      "text/plain": [
       "<Figure size 432x288 with 1 Axes>"
      ]
     },
     "metadata": {
      "needs_background": "light"
     },
     "output_type": "display_data"
    }
   ],
   "source": [
    "# predict probabilities\n",
    "log_probs = logisticRegr.predict_proba(X_test)\n",
    "# keep probabilities for the positive outcome only\n",
    "log_probs = log_probs[:, 1]\n",
    "# calculate scores\n",
    "log_auc = roc_auc_score(Y_test, log_probs)\n",
    "# summarize scores\n",
    "print('Logistic: ROC AUC=%.3f' % (log_auc))\n",
    "# calculate roc curves\n",
    "log_fpr, log_tpr, _ = roc_curve(Y_test, log_probs)\n",
    "# plot the roc curve for the model\n",
    "plt.plot(ns_fpr, ns_tpr, linestyle='--', label='No Skill')\n",
    "plt.plot(log_fpr, log_tpr, marker='.', label='Logistic')\n",
    "# axis labels\n",
    "plt.xlabel('False Positive Rate')\n",
    "plt.ylabel('True Positive Rate')\n",
    "# show the legend\n",
    "plt.legend()\n",
    "# show the plot\n",
    "plt.show()"
   ]
  },
  {
   "cell_type": "markdown",
   "id": "E76ZwFkxls6t",
   "metadata": {
    "id": "E76ZwFkxls6t"
   },
   "source": [
    "### Random Forest"
   ]
  },
  {
   "cell_type": "code",
   "execution_count": 27,
   "id": "mdyklZ_Tlz5r",
   "metadata": {
    "id": "mdyklZ_Tlz5r"
   },
   "outputs": [],
   "source": [
    "from sklearn.ensemble import RandomForestClassifier\n",
    "\n",
    "rfc = RandomForestClassifier(n_estimators=200)\n",
    "rfc.fit(X_train, Y_train)\n",
    "\n",
    "predictions_rfc = rfc.predict(X_test)"
   ]
  },
  {
   "cell_type": "markdown",
   "id": "b78cf16b",
   "metadata": {},
   "source": [
    "Tuning Hyperparameters"
   ]
  },
  {
   "cell_type": "code",
   "execution_count": 36,
   "id": "2e4006e3",
   "metadata": {},
   "outputs": [],
   "source": [
    "# Number of trees in random forest\n",
    "n_estimators = [int(x) for x in np.linspace(start = 200, stop = 500, num = 100)]\n",
    "# Maximum number of levels in tree\n",
    "max_depth = [int(x) for x in np.linspace(10, 50, num = 10)]\n",
    "max_depth.append(None)\n",
    "# Method of selecting samples for training each tree\n",
    "bootstrap = [True, False]\n",
    "# Create the random grid\n",
    "param_grid = {'n_estimators': n_estimators,\n",
    "               'max_depth': max_depth,\n",
    "               'bootstrap': bootstrap}"
   ]
  },
  {
   "cell_type": "code",
   "execution_count": null,
   "id": "6e11a99f",
   "metadata": {},
   "outputs": [],
   "source": [
    "clf = GridSearchCV(rfc, param_grid = param_grid, verbose=False, cv=10)\n",
    "\n",
    "best_clf = clf.fit(X_train, Y_train)"
   ]
  },
  {
   "cell_type": "code",
   "execution_count": null,
   "id": "3e7a630c",
   "metadata": {},
   "outputs": [],
   "source": [
    "best_clf.best_params_"
   ]
  },
  {
   "cell_type": "markdown",
   "id": "taMSPWbwm1gN",
   "metadata": {
    "id": "taMSPWbwm1gN"
   },
   "source": [
    "Evaluation"
   ]
  },
  {
   "cell_type": "markdown",
   "id": "-mpIceAcmymT",
   "metadata": {
    "id": "-mpIceAcmymT"
   },
   "source": [
    "Confusion Matrix"
   ]
  },
  {
   "cell_type": "code",
   "execution_count": null,
   "id": "vWp5Wf6YmhBE",
   "metadata": {
    "colab": {
     "base_uri": "https://localhost:8080/",
     "height": 522
    },
    "id": "vWp5Wf6YmhBE",
    "outputId": "e13c26f4-3b4c-44c2-df45-d61598289a70"
   },
   "outputs": [],
   "source": [
    "cm_rfc = metrics.confusion_matrix(Y_test, predictions_rfc)\n",
    "score_rfc = rfc.score(X_test, Y_test)\n",
    "\n",
    "plt.figure(figsize=(9,9))\n",
    "sns.heatmap(cm_rfc, annot=True, fmt=\".3f\", linewidths=.5, square = True, cmap = 'Blues_r');\n",
    "plt.ylabel('Actual label');\n",
    "plt.xlabel('Predicted label');\n",
    "all_sample_title = 'Accuracy Score: {0}%'.format(round(score_rfc*100, 2))\n",
    "plt.title(all_sample_title, size = 15);"
   ]
  },
  {
   "cell_type": "markdown",
   "id": "54r8JBK5nfV9",
   "metadata": {
    "id": "54r8JBK5nfV9"
   },
   "source": [
    "Precision & Recall"
   ]
  },
  {
   "cell_type": "code",
   "execution_count": null,
   "id": "BL6dhwoVnja7",
   "metadata": {
    "colab": {
     "base_uri": "https://localhost:8080/"
    },
    "id": "BL6dhwoVnja7",
    "outputId": "fd311c48-2782-48aa-d6cf-3d73bc353999"
   },
   "outputs": [],
   "source": [
    "print('Precision: %.3f' % precision_score(Y_test, predictions_rfc))"
   ]
  },
  {
   "cell_type": "code",
   "execution_count": null,
   "id": "5hcROHdanjg5",
   "metadata": {
    "colab": {
     "base_uri": "https://localhost:8080/"
    },
    "id": "5hcROHdanjg5",
    "outputId": "27e30043-4b1b-42f1-a27b-ccba8d49e998"
   },
   "outputs": [],
   "source": [
    "print('Recall: %.3f' % recall_score(Y_test, predictions_rfc))"
   ]
  },
  {
   "cell_type": "markdown",
   "id": "iikOZVWdm7wr",
   "metadata": {
    "id": "iikOZVWdm7wr"
   },
   "source": [
    "ROC & AUC"
   ]
  },
  {
   "cell_type": "code",
   "execution_count": null,
   "id": "f49HBaXrnBFB",
   "metadata": {
    "colab": {
     "base_uri": "https://localhost:8080/",
     "height": 296
    },
    "id": "f49HBaXrnBFB",
    "outputId": "c82155a1-c9a3-44d8-d33e-41a6c92df317"
   },
   "outputs": [],
   "source": [
    "# predict probabilities\n",
    "rfc_probs = rfc.predict_proba(X_test)\n",
    "# keep probabilities for the positive outcome only\n",
    "rfc_probs = rfc_probs[:, 1]\n",
    "# calculate scores\n",
    "rfc_auc = roc_auc_score(Y_test, rfc_probs)\n",
    "# summarize scores\n",
    "print('Random Forest: ROC AUC=%.3f' % (rfc_auc))\n",
    "# calculate roc curves\n",
    "rfc_fpr, rfc_tpr, _ = roc_curve(Y_test, rfc_probs)\n",
    "# plot the roc curve for the model\n",
    "plt.plot(ns_fpr, ns_tpr, linestyle='--', label='No Skill')\n",
    "plt.plot(rfc_fpr, rfc_tpr, marker='.', label='Random Forest')\n",
    "# axis labels\n",
    "plt.xlabel('False Positive Rate')\n",
    "plt.ylabel('True Positive Rate')\n",
    "# show the legend\n",
    "plt.legend()\n",
    "# show the plot\n",
    "plt.show()"
   ]
  },
  {
   "cell_type": "markdown",
   "id": "y55z309inuwK",
   "metadata": {
    "id": "y55z309inuwK"
   },
   "source": [
    "### XGBoost"
   ]
  },
  {
   "cell_type": "code",
   "execution_count": null,
   "id": "5atHtnsUnq7b",
   "metadata": {
    "id": "5atHtnsUnq7b"
   },
   "outputs": [],
   "source": [
    "from xgboost import XGBClassifier\n",
    "\n",
    "xgb = XGBClassifier(gamma=0)\n",
    "xgb.fit(X_train, Y_train)\n",
    "\n",
    "predictions_xgb = xgb.predict(X_test)"
   ]
  },
  {
   "cell_type": "markdown",
   "id": "AK4llIn6oY_b",
   "metadata": {
    "id": "AK4llIn6oY_b"
   },
   "source": [
    "Evaluation"
   ]
  },
  {
   "cell_type": "markdown",
   "id": "7tNMuyMBoaV8",
   "metadata": {
    "id": "7tNMuyMBoaV8"
   },
   "source": [
    "Confusion Matrix"
   ]
  },
  {
   "cell_type": "code",
   "execution_count": null,
   "id": "Df82V0yUoNqD",
   "metadata": {
    "colab": {
     "base_uri": "https://localhost:8080/",
     "height": 520
    },
    "id": "Df82V0yUoNqD",
    "outputId": "f981692d-60d0-40f7-81db-8042fef20d6c"
   },
   "outputs": [],
   "source": [
    "cm_xgb = metrics.confusion_matrix(Y_test, predictions_xgb)\n",
    "score_xgb = xgb.score(X_test, Y_test)\n",
    "\n",
    "plt.figure(figsize=(9,9))\n",
    "sns.heatmap(cm_xgb, annot=True, fmt=\".3f\", linewidths=.5, square = True, cmap = 'Blues_r');\n",
    "plt.ylabel('Actual label');\n",
    "plt.xlabel('Predicted label');\n",
    "all_sample_title = 'Accuracy Score: {0}%'.format(round(score_xgb*100, 2))\n",
    "plt.title(all_sample_title, size = 15);"
   ]
  },
  {
   "cell_type": "markdown",
   "id": "358lod7IpPZi",
   "metadata": {
    "id": "358lod7IpPZi"
   },
   "source": [
    "Precision & Recall"
   ]
  },
  {
   "cell_type": "code",
   "execution_count": null,
   "id": "MPX_QXHYpRZ2",
   "metadata": {
    "colab": {
     "base_uri": "https://localhost:8080/"
    },
    "id": "MPX_QXHYpRZ2",
    "outputId": "076819b0-d9f0-4e8d-8e0d-077c1c867108"
   },
   "outputs": [],
   "source": [
    "print('Precision: %.3f' % precision_score(Y_test, predictions_xgb))"
   ]
  },
  {
   "cell_type": "code",
   "execution_count": null,
   "id": "2ZQu9vYZpVzV",
   "metadata": {
    "colab": {
     "base_uri": "https://localhost:8080/"
    },
    "id": "2ZQu9vYZpVzV",
    "outputId": "2df0462a-18f4-4f6a-b5af-654120c4a899"
   },
   "outputs": [],
   "source": [
    "print('Recall: %.3f' % recall_score(Y_test, predictions_xgb))"
   ]
  },
  {
   "cell_type": "markdown",
   "id": "DfPmKcfUo1KB",
   "metadata": {
    "id": "DfPmKcfUo1KB"
   },
   "source": [
    "ROC & AUC"
   ]
  },
  {
   "cell_type": "code",
   "execution_count": null,
   "id": "XyHN_Lrxo2i7",
   "metadata": {
    "colab": {
     "base_uri": "https://localhost:8080/",
     "height": 296
    },
    "id": "XyHN_Lrxo2i7",
    "outputId": "ae9f30d0-e89c-4977-db31-15f9f591bbab"
   },
   "outputs": [],
   "source": [
    "# predict probabilities\n",
    "xgb_probs = xgb.predict_proba(X_test)\n",
    "# keep probabilities for the positive outcome only\n",
    "xgb_probs = xgb_probs[:, 1]\n",
    "# calculate scores\n",
    "xgb_auc = roc_auc_score(Y_test, xgb_probs)\n",
    "# summarize scores\n",
    "print('XGBoost: ROC AUC=%.3f' % (xgb_auc))\n",
    "# calculate roc curves\n",
    "xgb_fpr, xgb_tpr, _ = roc_curve(Y_test, xgb_probs)\n",
    "# plot the roc curve for the model\n",
    "plt.plot(ns_fpr, ns_tpr, linestyle='--', label='No Skill')\n",
    "plt.plot(xgb_fpr, xgb_tpr, marker='.', label='XGBoost')\n",
    "# axis labels\n",
    "plt.xlabel('False Positive Rate')\n",
    "plt.ylabel('True Positive Rate')\n",
    "# show the legend\n",
    "plt.legend()\n",
    "# show the plot\n",
    "plt.show()"
   ]
  },
  {
   "cell_type": "markdown",
   "id": "lRtX6uzevhhg",
   "metadata": {
    "id": "lRtX6uzevhhg"
   },
   "source": [
    "### Interpreation: \n",
    "\n",
    "In case of diabetes, type II error is of more importance since false negatives are more important i.e. incorrrectly identifying the patients with diabetes as non-diabetic would be a fatal error thus model with least type II error should be selected.\\\n",
    "\\\n",
    "The confusion matrix allows us to compare the false negatives across models.\\\n",
    "FN - Type II error comparison\\\n",
    "Logistic Regression - 46/300 = 15.33%\\\n",
    "Random Forest - 19/300 = 6.33%\\\n",
    "XGBoost - 23/300 = 7.67%\\\n",
    "\\\n",
    "Thus Random Forest model has higher accuracy as well as lowest type II error.\\\n",
    "\\\n",
    "\\\n",
    "Precision can be explained as the number of correctly predicted diabetic patients divided by total correctly classified patients.\n",
    "Recall can be explained as ratio of correctly identified diabetic patients and total actual diabetic patients.\\\n",
    "Thus, in case of diabetic prediction - recall is more important than precision since it talks about correctly identifying patients with diabetes than correct prediction.\\\n",
    "Higher the recall lower the type II error which is important in this scenario.\\\n",
    "Comparing Recall across models -\\\n",
    "Logistic Regression - 69.3%\\\n",
    "Random Forest - 87.3%\\\n",
    "XGBoost - 84.7%\\\n",
    "Thus, random forest outperforms other 2 models.\\\n",
    "\\\n",
    "\\\n",
    "ROC & AUC -\\\n",
    "ROC (Receiving Operator Characteristics) is the graph of True positive rate (Sensitivity/Recall) vs False Postive Rate (1-Specificity)\\\n",
    "(FPR - number of people incorrectly identified as diabetics divided by total people who are actually not diabetics).\\\n",
    "AUC is area under the ROC curve. The higher the area better the model.\\\n",
    "Comparing the ROC Curves"
   ]
  },
  {
   "cell_type": "code",
   "execution_count": null,
   "id": "6w0iVL2l9h3B",
   "metadata": {
    "colab": {
     "base_uri": "https://localhost:8080/",
     "height": 279
    },
    "id": "6w0iVL2l9h3B",
    "outputId": "67b03ede-ea3d-4666-dc59-7c878a9aae46"
   },
   "outputs": [],
   "source": [
    "plt.plot(ns_fpr, ns_tpr, linestyle='--', label='No Skill')\n",
    "plt.plot(log_fpr, log_tpr, marker='.', label='Logistic')\n",
    "plt.plot(rfc_fpr, rfc_tpr, marker='.', label='Random Forest')\n",
    "plt.plot(xgb_fpr, xgb_tpr, marker='.', label='XGBoost')\n",
    "# axis labels\n",
    "plt.xlabel('False Positive Rate')\n",
    "plt.ylabel('True Positive Rate')\n",
    "# show the legend\n",
    "plt.legend()\n",
    "# show the plot\n",
    "plt.show()"
   ]
  },
  {
   "cell_type": "markdown",
   "id": "R81_JHav96VJ",
   "metadata": {
    "id": "R81_JHav96VJ"
   },
   "source": [
    "Thus, Random Forest is a better model than Logistic & XGboost classification."
   ]
  }
 ],
 "metadata": {
  "colab": {
   "collapsed_sections": [],
   "name": "HW1_453_SR.ipynb",
   "provenance": []
  },
  "kernelspec": {
   "display_name": "Python 3",
   "language": "python",
   "name": "python3"
  },
  "language_info": {
   "codemirror_mode": {
    "name": "ipython",
    "version": 3
   },
   "file_extension": ".py",
   "mimetype": "text/x-python",
   "name": "python",
   "nbconvert_exporter": "python",
   "pygments_lexer": "ipython3",
   "version": "3.8.8"
  }
 },
 "nbformat": 4,
 "nbformat_minor": 5
}
